{
 "cells": [
  {
   "cell_type": "markdown",
   "metadata": {},
   "source": [
    "## 🪄 Install `weave` library and login\n",
    "\n",
    "\n",
    "Start by installing the library and logging in to your account.\n",
    "\n",
    "In this example, we're using openai so you should [add an openai API key](https://platform.openai.com/docs/quickstart/step-2-setup-your-api-key).\n"
   ]
  },
  {
   "cell_type": "code",
   "execution_count": 1,
   "metadata": {},
   "outputs": [],
   "source": [
    "%%capture\n",
    "%pip install weave openai set-env-colab-kaggle-dotenv"
   ]
  },
  {
   "cell_type": "code",
   "execution_count": 2,
   "metadata": {},
   "outputs": [],
   "source": [
    "# Set your OpenAI API key\n",
    "from set_env import set_env\n",
    "\n",
    "# Put your OPENAI_API_KEY in the secrets panel to the left 🗝️\n",
    "_ = set_env(\"OPENAI_API_KEY\")\n",
    "# os.environ[\"OPENAI_API_KEY\"] = \"sk-...\" # alternatively, put your key here\n",
    "\n",
    "PROJECT = \"waive-openai-demo\""
   ]
  },
  {
   "cell_type": "markdown",
   "metadata": {},
   "source": [
    "# Track inputs & outputs of functions\n",
    "\n",
    "Weave allows users to track function calls: the code, inputs, outputs, and even LLM tokens & costs! In the following sections we will cover:\n",
    "\n",
    "* Custom Functions\n",
    "* Vendor Integrations\n",
    "* Nested Function Calling\n",
    "* Error Tracking\n",
    "\n",
    "Note: in all cases, we will:\n",
    "\n",
    "```python\n",
    "import weave                    # import the weave library\n",
    "weave.init('project-name')      # initialize tracking for a specific W&B project\n",
    "```"
   ]
  },
  {
   "cell_type": "markdown",
   "metadata": {},
   "source": [
    "## Track custom functions\n",
    "\n",
    "Add the @weave.op decorator to the functions you want to track"
   ]
  },
  {
   "cell_type": "code",
   "execution_count": null,
   "metadata": {},
   "outputs": [],
   "source": [
    "# Test the .env files\n",
    "from dotenv import load_dotenv\n",
    "import os\n",
    "\n",
    "# Debugging: ensure the .env file is loaded\n",
    "env_loaded = load_dotenv()\n",
    "print(f\"The file .env loaded: {env_loaded}\")\n",
    "\n",
    "# Debugging: print all environment variables\n",
    "# for key, value in os.environ.items():\n",
    "#     print(f\"{key}: {value}\")\n",
    "\n",
    "# Check specific variables\n",
    "print(\"OPENAI_API_KEY:\", os.getenv(\"OPENAI_API_KEY\"))\n",
    "print(\"WANDB_API_KEY:\", os.getenv(\"WANDB_API_KEY\"))"
   ]
  },
  {
   "cell_type": "markdown",
   "metadata": {},
   "source": [
    "Here an issue occured because I used the WANDB api key in 2 locations:\n",
    "- _netrc from the local computer storage `C:\\Users\\almud`\n",
    "- .env from the project\n",
    "So I got the following error: `WeaveConfigurationError: WANDB_API_KEY should not be set in both ~/.netrc and the environment.`\n",
    "\n",
    "To tackle this error, we should remove the `_netrc` file.\n"
   ]
  },
  {
   "cell_type": "code",
   "execution_count": 4,
   "metadata": {},
   "outputs": [
    {
     "name": "stderr",
     "output_type": "stream",
     "text": [
      "c:\\Users\\almud\\AppData\\Local\\Programs\\Python\\Python310\\lib\\site-packages\\pydantic\\_internal\\_config.py:334: UserWarning: Valid config keys have changed in V2:\n",
      "* 'allow_population_by_field_name' has been renamed to 'populate_by_name'\n",
      "* 'smart_union' has been removed\n",
      "  warnings.warn(message, UserWarning)\n"
     ]
    },
    {
     "name": "stdout",
     "output_type": "stream",
     "text": [
      "Logged in as Weights & Biases user: dastech1998.\n",
      "View Weave data at https://wandb.ai/dastech1998-ozyegin-university/waive-openai-demo/weave\n",
      "🍩 https://wandb.ai/dastech1998-ozyegin-university/waive-openai-demo/r/call/0191bc99-e8bc-7b70-ad1c-733318780125\n",
      "That was so easy, it was a piece of cake!\n"
     ]
    }
   ],
   "source": [
    "from openai import OpenAI\n",
    "\n",
    "import weave\n",
    "\n",
    "weave.init(PROJECT)\n",
    "\n",
    "client = OpenAI()\n",
    "response = client.chat.completions.create(\n",
    "    model=\"gpt-3.5-turbo-1106\",\n",
    "    messages=[\n",
    "        {\n",
    "            \"role\": \"system\",\n",
    "            \"content\": \"You are a grammar checker, correct the following user input.\",\n",
    "        },\n",
    "        {\"role\": \"user\", \"content\": \"That was so easy, it was a piece of pie!\"},\n",
    "    ],\n",
    "    temperature=0,\n",
    ")\n",
    "generation = response.choices[0].message.content\n",
    "print(generation)"
   ]
  },
  {
   "cell_type": "markdown",
   "metadata": {},
   "source": [
    "You can find your interactive dashboard by clicking any of the  👆 wandb links above."
   ]
  },
  {
   "cell_type": "markdown",
   "metadata": {},
   "source": [
    "## Vendor Integrations (OpenAI, Anthropic, Mistral, etc...)\n",
    "\n",
    "Here, we're automatically tracking all calls to `openai`. We automatically track a lot of LLM libraries, but it's really easy to add support for whatever LLM you're using, as you'll see below. "
   ]
  },
  {
   "cell_type": "code",
   "execution_count": 5,
   "metadata": {},
   "outputs": [
    {
     "name": "stdout",
     "output_type": "stream",
     "text": [
      "🍩 https://wandb.ai/dastech1998-ozyegin-university/waive-openai-demo/r/call/0191bc9a-3169-7cf1-aa10-2f1e73982d2a\n",
      "hello\n"
     ]
    }
   ],
   "source": [
    "import weave\n",
    "\n",
    "weave.init(PROJECT)\n",
    "\n",
    "\n",
    "@weave.op()\n",
    "def strip_user_input(user_input):\n",
    "    return user_input.strip()\n",
    "\n",
    "\n",
    "result = strip_user_input(\"    hello    \")\n",
    "print(result)"
   ]
  },
  {
   "cell_type": "markdown",
   "metadata": {},
   "source": [
    "After adding `weave.op` and calling the function, visit the link and see it tracked within your project.\n",
    "\n",
    "💡 We automatically track your code, have a look at the code tab!"
   ]
  },
  {
   "cell_type": "markdown",
   "metadata": {},
   "source": [
    "## Track nested functions\n",
    "\n",
    "Now that you've seen the basics, let's combine all of the above and track some deeply nested functions alongside LLM calls.\n",
    "\n"
   ]
  },
  {
   "cell_type": "code",
   "execution_count": 6,
   "metadata": {},
   "outputs": [
    {
     "name": "stdout",
     "output_type": "stream",
     "text": [
      "🍩 https://wandb.ai/dastech1998-ozyegin-university/waive-openai-demo/r/call/0191bc9a-4cf8-7700-b364-f9db0c6067ed\n",
      "That was so easy, it was a piece of cake!\n"
     ]
    }
   ],
   "source": [
    "from openai import OpenAI\n",
    "\n",
    "import weave\n",
    "\n",
    "weave.init(PROJECT)\n",
    "\n",
    "\n",
    "@weave.op()\n",
    "def strip_user_input(user_input):\n",
    "    return user_input.strip()\n",
    "\n",
    "\n",
    "@weave.op()\n",
    "def correct_grammar(user_input):\n",
    "    client = OpenAI()\n",
    "\n",
    "    stripped = strip_user_input(user_input)\n",
    "    response = client.chat.completions.create(\n",
    "        model=\"gpt-3.5-turbo-1106\",\n",
    "        messages=[\n",
    "            {\n",
    "                \"role\": \"system\",\n",
    "                \"content\": \"You are a grammar checker, correct the following user input.\",\n",
    "            },\n",
    "            {\"role\": \"user\", \"content\": stripped},\n",
    "        ],\n",
    "        temperature=0,\n",
    "    )\n",
    "    return response.choices[0].message.content\n",
    "\n",
    "\n",
    "result = correct_grammar(\"   That was so easy, it was a piece of pie!    \")\n",
    "print(result)"
   ]
  },
  {
   "cell_type": "markdown",
   "metadata": {},
   "source": [
    "## Track Errors\n",
    "\n",
    "Whenever your code crashes, weave will highlight what caused the issue. This is especially useful for finding things like JSON parsing issues that can occasionally happen when parsing data from LLM responses."
   ]
  },
  {
   "cell_type": "markdown",
   "metadata": {},
   "source": [
    "Here the `content` parameter, should include the word `JSON`otherwise OpenAI won't accept it as a valid user input."
   ]
  },
  {
   "cell_type": "code",
   "execution_count": 11,
   "metadata": {},
   "outputs": [
    {
     "name": "stdout",
     "output_type": "stream",
     "text": [
      "🍩 https://wandb.ai/dastech1998-ozyegin-university/waive-openai-demo/r/call/0191bca6-fb00-7913-8dce-9419d315b8e0\n",
      "{'text': 'That was so easy, it was a piece of pie!'}\n"
     ]
    }
   ],
   "source": [
    "import json\n",
    "\n",
    "from openai import OpenAI\n",
    "\n",
    "import weave\n",
    "\n",
    "weave.init(PROJECT)\n",
    "\n",
    "\n",
    "@weave.op()\n",
    "def strip_user_input(user_input):\n",
    "    return user_input.strip()\n",
    "\n",
    "\n",
    "@weave.op()\n",
    "def correct_grammar(user_input):\n",
    "    client = OpenAI()\n",
    "\n",
    "    stripped = strip_user_input(user_input)\n",
    "    response = client.chat.completions.create(\n",
    "        model=\"gpt-3.5-turbo-1106\",\n",
    "        messages=[\n",
    "            {\n",
    "                \"role\": \"system\",\n",
    "                \"content\": \"You are a grammar checker, correct the following user input IN VALID JSON FORMAT.\",\n",
    "            },\n",
    "            {\"role\": \"user\", \"content\": stripped},\n",
    "        ],\n",
    "        temperature=0,\n",
    "        response_format={\"type\": \"json_object\"},\n",
    "    )\n",
    "    return json.loads(response.choices[0].message.content)\n",
    "\n",
    "\n",
    "result = correct_grammar(\"   That was so easy, it was a piece of pie!    \")\n",
    "print(result)"
   ]
  },
  {
   "cell_type": "markdown",
   "metadata": {},
   "source": [
    "# Tracking Objects\n",
    "\n",
    "Organizing experimentation is difficult when there are many moving pieces. You can capture and organize the experimental details of your app like your system prompt or the model you're using within `weave.Objects`. This helps organize and compare different iterations of your app. In this section, we will cover:\n",
    "\n",
    "* General Object Tracking\n",
    "* Tracking Models\n",
    "* Tracking Datasets"
   ]
  },
  {
   "cell_type": "markdown",
   "metadata": {},
   "source": [
    "## General Object Tracking\n",
    "\n",
    "Many times, it is useful to track & version data, just like you track and version code. For example, here we define a `SystemPrompt(weave.Object)` object that can be shared between teammates"
   ]
  },
  {
   "cell_type": "code",
   "execution_count": 12,
   "metadata": {},
   "outputs": [
    {
     "name": "stdout",
     "output_type": "stream",
     "text": [
      "📦 Published to https://wandb.ai/dastech1998-ozyegin-university/waive-openai-demo/weave/objects/SystemPrompt/versions/C2NtZFmQa6zY3l7YW4ZrpSI8tQCrwLogfHYYJw8OWDg\n"
     ]
    },
    {
     "data": {
      "text/plain": [
       "ObjectRef(entity='dastech1998-ozyegin-university', project='waive-openai-demo', name='SystemPrompt', digest='C2NtZFmQa6zY3l7YW4ZrpSI8tQCrwLogfHYYJw8OWDg', extra=())"
      ]
     },
     "execution_count": 12,
     "metadata": {},
     "output_type": "execute_result"
    }
   ],
   "source": [
    "import weave\n",
    "\n",
    "weave.init(PROJECT)\n",
    "\n",
    "\n",
    "class SystemPrompt(weave.Object):\n",
    "    prompt: str\n",
    "\n",
    "\n",
    "system_prompt = SystemPrompt(\n",
    "    prompt=\"You are a grammar checker, correct the following user input.\"\n",
    ")\n",
    "weave.publish(system_prompt)"
   ]
  },
  {
   "cell_type": "markdown",
   "metadata": {},
   "source": [
    "## Model Tracking\n",
    "\n",
    "Models are so common of an object type, that we have a special class to represent them: `weave.Model`. The only requirement is that we define a `predict` method."
   ]
  },
  {
   "cell_type": "code",
   "execution_count": 13,
   "metadata": {},
   "outputs": [
    {
     "name": "stdout",
     "output_type": "stream",
     "text": [
      "🍩 https://wandb.ai/dastech1998-ozyegin-university/waive-openai-demo/r/call/0191bca7-be06-7d61-a880-9e27e655a0ee\n",
      "That was so easy, it was a piece of cake!\n"
     ]
    }
   ],
   "source": [
    "from openai import OpenAI\n",
    "\n",
    "import weave\n",
    "\n",
    "weave.init(PROJECT)\n",
    "\n",
    "\n",
    "class OpenAIGrammarCorrector(weave.Model):\n",
    "    # Properties are entirely user-defined\n",
    "    openai_model_name: str\n",
    "    system_message: str\n",
    "\n",
    "    @weave.op()\n",
    "    def predict(self, user_input):\n",
    "        client = OpenAI()\n",
    "        response = client.chat.completions.create(\n",
    "            model=self.openai_model_name,\n",
    "            messages=[\n",
    "                {\"role\": \"system\", \"content\": self.system_message},\n",
    "                {\"role\": \"user\", \"content\": user_input},\n",
    "            ],\n",
    "            temperature=0,\n",
    "        )\n",
    "        return response.choices[0].message.content\n",
    "\n",
    "\n",
    "corrector = OpenAIGrammarCorrector(\n",
    "    openai_model_name=\"gpt-3.5-turbo-1106\",\n",
    "    system_message=\"You are a grammar checker, correct the following user input.\",\n",
    ")\n",
    "\n",
    "result = corrector.predict(\"     That was so easy, it was a piece of pie!       \")\n",
    "print(result)"
   ]
  },
  {
   "cell_type": "markdown",
   "metadata": {},
   "source": [
    "## Dataset Tracking\n",
    "\n",
    "Similar to models, a `weave.Dataset` object exists to help track, organize, and operate on datasets"
   ]
  },
  {
   "cell_type": "code",
   "execution_count": 14,
   "metadata": {},
   "outputs": [
    {
     "name": "stdout",
     "output_type": "stream",
     "text": [
      "📦 Published to https://wandb.ai/dastech1998-ozyegin-university/waive-openai-demo/weave/objects/grammar-correction/versions/Srw6yqh5u6FLVANZKO1G56fkm7RQfrbTyVux7dFKrF4\n"
     ]
    },
    {
     "data": {
      "text/plain": [
       "ObjectRef(entity='dastech1998-ozyegin-university', project='waive-openai-demo', name='grammar-correction', digest='Srw6yqh5u6FLVANZKO1G56fkm7RQfrbTyVux7dFKrF4', extra=())"
      ]
     },
     "execution_count": 14,
     "metadata": {},
     "output_type": "execute_result"
    }
   ],
   "source": [
    "dataset = weave.Dataset(\n",
    "    name=\"grammar-correction\",\n",
    "    rows=[\n",
    "        {\n",
    "            \"user_input\": \"   That was so easy, it was a piece of pie!   \",\n",
    "            \"expected\": \"That was so easy, it was a piece of cake!\",\n",
    "        },\n",
    "        {\"user_input\": \"  I write good   \", \"expected\": \"I write well\"},\n",
    "        {\n",
    "            \"user_input\": \"  GPT-3 is smartest AI model.   \",\n",
    "            \"expected\": \"GPT-3 is the smartest AI model.\",\n",
    "        },\n",
    "    ],\n",
    ")\n",
    "\n",
    "weave.publish(dataset)"
   ]
  },
  {
   "cell_type": "markdown",
   "metadata": {},
   "source": [
    "Notice that we saved a versioned `GrammarCorrector` object that captures the configurations you're experimenting with."
   ]
  },
  {
   "cell_type": "markdown",
   "metadata": {},
   "source": [
    "## Retrieve Published Objects & Ops\n",
    "\n",
    "You can publish objects and then retrieve them in your code. You can even call functions from your retrieved objects!"
   ]
  },
  {
   "cell_type": "code",
   "execution_count": 19,
   "metadata": {},
   "outputs": [
    {
     "name": "stdout",
     "output_type": "stream",
     "text": [
      "📦 Published to https://wandb.ai/dastech1998-ozyegin-university/waive-openai-demo/weave/objects/OpenAIGrammarCorrector/versions/5KHhCVDjLfCQmy3YFGk68E5YCRKg8GvxnMNLcDsmicc\n",
      "weave:///dastech1998-ozyegin-university/waive-openai-demo/object/OpenAIGrammarCorrector:5KHhCVDjLfCQmy3YFGk68E5YCRKg8GvxnMNLcDsmicc\n"
     ]
    }
   ],
   "source": [
    "import weave\n",
    "\n",
    "weave.init(PROJECT)\n",
    "\n",
    "corrector = OpenAIGrammarCorrector(\n",
    "    openai_model_name=\"gpt-3.5-turbo-1106\",\n",
    "    system_message=\"You are a grammar checker, correct the following user input.\",\n",
    ")\n",
    "\n",
    "ref = weave.publish(corrector)\n",
    "print(ref.uri())"
   ]
  },
  {
   "cell_type": "code",
   "execution_count": null,
   "metadata": {},
   "outputs": [],
   "source": [
    "import weave\n",
    "\n",
    "weave.init(PROJECT)\n",
    "\n",
    "# Note: this url is available from the UI after publishing the object!\n",
    "ref_url = f\"weave:///{ref.entity}/{PROJECT}/object/{ref.name}:{ref.digest}\"\n",
    "fetched_collector = weave.ref(ref_url).get()\n",
    "# Check the correctness of the \n",
    "\n",
    "# Notice: this object was loaded from remote location!\n",
    "result = fetched_collector.predict(\"That was so easy, it was a piece of pie!\")\n",
    "\n",
    "print(result)"
   ]
  },
  {
   "cell_type": "markdown",
   "metadata": {},
   "source": [
    "# Evaluation\n",
    "\n",
    "Evaluation-driven development helps you reliably iterate on an application. The `Evaluation` class is designed to assess the performance of a `Model` on a given `Dataset` or set of examples using scoring functions.\n",
    "\n",
    "See a preview of the API below:"
   ]
  },
  {
   "cell_type": "code",
   "execution_count": null,
   "metadata": {},
   "outputs": [],
   "source": [
    "import weave\n",
    "from weave import Evaluation\n",
    "\n",
    "\n",
    "# Define any custom scoring function\n",
    "@weave.op()\n",
    "def exact_match(expected: str, model_output: dict) -> dict:\n",
    "    # Here is where you'd define the logic to score the model output\n",
    "    return {\"match\": expected == model_output}\n",
    "\n",
    "\n",
    "# Score your examples using scoring functions\n",
    "evaluation = Evaluation(\n",
    "    dataset=dataset,  # can be a list of dictionaries or a weave.Dataset object\n",
    "    scorers=[exact_match],  # can be a list of scoring functions\n",
    ")\n",
    "\n",
    "# Start tracking the evaluation\n",
    "weave.init(PROJECT)\n",
    "# Run the evaluation\n",
    "summary = await evaluation.evaluate(corrector)  # can be a model or simple function"
   ]
  },
  {
   "cell_type": "markdown",
   "metadata": {},
   "source": [
    "## What's next?\n",
    "\n",
    "Follow the [Build an Evaluation pipeline](http://wandb.me/weave_eval_tut) tutorial to learn more about Evaluation and begin iteratively improving your applications."
   ]
  }
 ],
 "metadata": {
  "kernelspec": {
   "display_name": "Python 3",
   "language": "python",
   "name": "python3"
  },
  "language_info": {
   "codemirror_mode": {
    "name": "ipython",
    "version": 3
   },
   "file_extension": ".py",
   "mimetype": "text/x-python",
   "name": "python",
   "nbconvert_exporter": "python",
   "pygments_lexer": "ipython3",
   "version": "3.10.11"
  }
 },
 "nbformat": 4,
 "nbformat_minor": 2
}
